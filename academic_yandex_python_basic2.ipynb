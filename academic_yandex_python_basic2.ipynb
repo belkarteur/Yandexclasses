{
 "cells": [
  {
   "cell_type": "markdown",
   "metadata": {},
   "source": [
    "# 2.2. Условный оператор // basic python constructions"
   ]
  },
  {
   "cell_type": "markdown",
   "metadata": {},
   "source": [
    "### А. Just hello, just how are you?\n",
    "\n",
    "Knowing how to dialog is an important skill for a well-mannered person.\n",
    "\n",
    "Write a dialog program that first introduces the user and then asks about his mood.\n",
    "\n",
    "Input format: The first line contains the user's name. The second line is the answer to the question, \"good\" or \"bad\".\n",
    "\n",
    "Output format: The first line should be the question, \"What is your name?\" The second line should be \"Hello, %username%!\" The third line should ask, \"How are you?\" The fourth line should be a response to the user's answer:\n",
    "\n",
    "if the user answered \"good,\" the message \"I'm happy for you!\" should be displayed; if the user answered \"bad,\" the message \"Things will get better!\" should be displayed."
   ]
  },
  {
   "cell_type": "code",
   "execution_count": 1,
   "metadata": {},
   "outputs": [
    {
     "name": "stdout",
     "output_type": "stream",
     "text": [
      "what is your name?\n",
      "Hello, Jack!\n",
      "How are you?\n",
      "Я за вас рада! I am happy for you!\n"
     ]
    }
   ],
   "source": [
    "name = input()\n",
    "mood = input()\n",
    "print(\"what is your name?\")\n",
    "print(f'Hello, {name}!')\n",
    "print(\"How are you?\")\n",
    "if mood == \"good\":\n",
    "    print(\"Я за вас рада! I am happy for you!\")\n",
    "elif mood == \"плохо\":\n",
    "    print(\"Всё наладится! Things will get better!\")"
   ]
  },
  {
   "cell_type": "markdown",
   "metadata": {},
   "source": [
    "### B. Who's faster?\n",
    "\n",
    "More than a thousand riders take part in the main cycling race of the year. They have to pass the course of 43872m. The most difficult and responsible task is to determine the winner.\n",
    "\n",
    "We know the average speeds of the two favourites - Pete and Vasya. Help figure out which of them came to the finish line first.\n",
    "\n",
    "Input format : The first line shows the average speed of Peter. The second line contains the average speed of Vasya.\n",
    "\n",
    "Output format : The name of the winner of the race.\n",
    "\n",
    "Note It is guaranteed that there is only one winner."
   ]
  },
  {
   "cell_type": "code",
   "execution_count": 1,
   "metadata": {},
   "outputs": [
    {
     "name": "stdout",
     "output_type": "stream",
     "text": [
      "5\n",
      "10\n",
      "Vasya\n"
     ]
    }
   ],
   "source": [
    "pet = int(input())\n",
    "vas = int(input())\n",
    "pet_time = 43872 / pet\n",
    "vas_time = 43872 / vas\n",
    "if pet_time == vas_time:\n",
    "    print(\"Vasya\")\n",
    "elif pet_time > vas_time:\n",
    "    print(\"Vasya\")\n",
    "else:\n",
    "    print(\"Peter\")"
   ]
  },
  {
   "cell_type": "markdown",
   "metadata": {},
   "source": [
    "### C. Who's faster this time?\n",
    "\n",
    "Once again the cyclists have come together to see who is the fastest. They will have to complete the 43872m course, and once again we need to determine the winner.\n",
    "\n",
    "This time we know the average speeds of the three favourites - Peta, Vasya and Tolya. Which of them has come to the finish line first?\n",
    "\n",
    "Input format: The first line shows the average speed of Peter. The second line shows the average speed of Vasya. The third line shows Tolya.\n",
    "\n",
    "Output format: The name of the winner of the race.\n",
    "\n",
    "Note It is guaranteed that there is only one winner."
   ]
  },
  {
   "cell_type": "code",
   "execution_count": 2,
   "metadata": {},
   "outputs": [
    {
     "name": "stdout",
     "output_type": "stream",
     "text": [
      "5\n",
      "7\n",
      "10\n",
      "Tolya\n"
     ]
    }
   ],
   "source": [
    "pet = int(input())\n",
    "vas = int(input())\n",
    "telya = int(input())\n",
    "pet_time = 43872 / pet\n",
    "vas_time = 43872 / vas\n",
    "tel_time = 43872 / telya\n",
    "if pet_time <= vas_time:\n",
    "    if pet_time <= tel_time:\n",
    "        print(\"Peter\")\n",
    "    elif vas_time >= tel_time:\n",
    "        print(\"Tolya\")\n",
    "elif vas_time <= tel_time:\n",
    "    print(\"Vasya\")\n",
    "else:\n",
    "    print(\"Tolya\")"
   ]
  },
  {
   "cell_type": "markdown",
   "metadata": {},
   "source": [
    "### D. List of winners\n",
    "\n",
    "The track is 43872m long, and viewers want to know the name of the winner.\n",
    "\n",
    "We know the average speeds of the three favorites - Petey, Vasya and Tolya. Help me to sum up the results of the race.\n",
    "\n",
    "Input format: The first line shows the average speed of Peter. The second is Vasya. The third line contains the average speed of Tony.\n",
    "\n",
    "Output format: The names of the winners in order of places."
   ]
  },
  {
   "cell_type": "code",
   "execution_count": 3,
   "metadata": {},
   "outputs": [
    {
     "name": "stdout",
     "output_type": "stream",
     "text": [
      "10\n",
      "5\n",
      "7\n",
      "1. Peter\n",
      "2. Tolya\n",
      "3. Vasya\n"
     ]
    }
   ],
   "source": [
    "pet = int(input())\n",
    "vas = int(input())\n",
    "telya = int(input())\n",
    "pet_time = 43872 / pet\n",
    "vas_time = 43872 / vas\n",
    "tel_time = 43872 / telya\n",
    "if pet_time <= vas_time:\n",
    "    if pet_time <= tel_time:\n",
    "        print(\"1.\", \"Peter\")\n",
    "        if vas_time <= tel_time:\n",
    "            print(\"2.\", \"Vasya\")\n",
    "            print(\"3.\", \"Tolya\")\n",
    "        else:\n",
    "            print(\"2.\", \"Tolya\")\n",
    "            print(\"3.\", \"Vasya\")\n",
    "    elif vas_time >= tel_time:\n",
    "        print(\"1.\", \"Tolya\")\n",
    "        print(\"2.\", \"Peter\")\n",
    "        print(\"3.\", \"Vasya\")\n",
    "elif vas_time <= tel_time:\n",
    "    print(\"1.\", \"Vasya\")\n",
    "    if pet_time < tel_time:\n",
    "        print(\"2.\", \"Peter\")\n",
    "        print(\"3.\", \"Tolya\")\n",
    "    else:\n",
    "        print(\"2.\", \"Tolya\")\n",
    "        print(\"3.\", \"Peter\")\n",
    "else:\n",
    "    print(\"1.\", \"Tolya\")\n",
    "    print(\"2.\", \"Vasya\")\n",
    "    print(\"3.\", \"Peter\")"
   ]
  },
  {
   "cell_type": "markdown",
   "metadata": {},
   "source": [
    "### E. Apples\n",
    "\n",
    "Peter had 7 apples, and Vasya had 6.\n",
    "\n",
    "Then Peter gave 3 apples to Vasya, and Tolya took 2 apples from him.\n",
    "\n",
    "Vasya asked Tony for 5 apples, but gave Gena 2 apples.\n",
    "\n",
    "Then Tim gave Pete NN apples, and Tom gave him MM apples.\n",
    "\n",
    "So, who has more apples - Petr or Vasya?\n",
    "\n",
    "Input format The first line contains a natural number NN. The second line contains MM.\n",
    "\n",
    "Output format The name of the child who has more apples."
   ]
  },
  {
   "cell_type": "code",
   "execution_count": 4,
   "metadata": {},
   "outputs": [
    {
     "name": "stdout",
     "output_type": "stream",
     "text": [
      "3\n",
      "5\n",
      "Vasya\n"
     ]
    }
   ],
   "source": [
    "n_value = int(input())\n",
    "m_value = int(input())\n",
    "peter_value = 5 + n_value\n",
    "vasnya_value = 9 + m_value\n",
    "if peter_value > vasnya_value:\n",
    "    print(\"Peter\")\n",
    "else:\n",
    "    print(\"Vasya\")"
   ]
  },
  {
   "cell_type": "markdown",
   "metadata": {},
   "source": [
    "### F. The power of procrastination\n",
    "\n",
    "Vasya likes to be lazy. He especially likes it when there is an extra day in the year that usually does not happen. Write a program that will help Vasya determine whether he will be able to slack off in a certain year or not.\n",
    "\n",
    "Input format One number - year.\n",
    "\n",
    "Output format One word \"YES\" or \"NO\"."
   ]
  },
  {
   "cell_type": "code",
   "execution_count": 5,
   "metadata": {},
   "outputs": [
    {
     "name": "stdout",
     "output_type": "stream",
     "text": [
      "2022\n",
      "NO\n"
     ]
    }
   ],
   "source": [
    "import calendar\n",
    "n_value = int(input())\n",
    "n_value = calendar.isleap(n_value) \n",
    "if n_value:\n",
    "    print(\"YES\")\n",
    "else:\n",
    "    print(\"NO\")"
   ]
  },
  {
   "cell_type": "markdown",
   "metadata": {},
   "source": [
    "### G. And the rose fell on Azor's paw.\n",
    "\n",
    "There is such an interesting concept as a palindrome - a number, word, sentence, and so on, that reads the same from left to right and from right to left.\n",
    "\n",
    "Write a program that checks to see if a number is a palindrome.\n",
    "\n",
    "Input format One four-digit number\n",
    "\n",
    "The output format is YES if the number is a palindrome, otherwise NO."
   ]
  },
  {
   "cell_type": "code",
   "execution_count": 6,
   "metadata": {},
   "outputs": [
    {
     "name": "stdout",
     "output_type": "stream",
     "text": [
      "1234\n",
      "NO\n"
     ]
    }
   ],
   "source": [
    "n_value = input()\n",
    "n_value = [x for x in n_value]\n",
    "n_value_i = [n_value[i] for i in range(len(n_value) - 1, -1, -1)]\n",
    "check = n_value == n_value_i\n",
    "if check:\n",
    "    print(\"YES\")\n",
    "else:\n",
    "    print(\"NO\")"
   ]
  },
  {
   "cell_type": "markdown",
   "metadata": {},
   "source": [
    "### H. Bunny - 1\n",
    "\n",
    "Children can get cranky on the long road, so parents entertain them with games. One of them is to look for different animals in the roadside vegetation.\n",
    "\n",
    "Let's play a little game and find out if the bunny is hiding in the entered sentence.\n",
    "\n",
    "Input format String describing the roadside terrain.\n",
    "\n",
    "The output format is YES - if there is a bunny in the area, otherwise NO."
   ]
  },
  {
   "cell_type": "code",
   "execution_count": null,
   "metadata": {},
   "outputs": [],
   "source": [
    "val = input()\n",
    "if val.find(\"зайка\") != -1:\n",
    "    print(\"YES\")\n",
    "else:\n",
    "    print(\"NO\")"
   ]
  },
  {
   "cell_type": "markdown",
   "metadata": {},
   "source": [
    "### I. First player to prepare.\n",
    "\n",
    "In many games, the order is determined by rolling a die or a coin - but in ours, the first to go is the one whose name is lexicographically smaller.\n",
    "\n",
    "Determine which player will go first.\n",
    "\n",
    "Input format Three player names, each on a new line.\n",
    "\n",
    "Output format The name of the player who will walk first."
   ]
  },
  {
   "cell_type": "code",
   "execution_count": null,
   "metadata": {},
   "outputs": [],
   "source": [
    "pet = input()\n",
    "vas = input()\n",
    "telya = input()\n",
    "pet_time = pet\n",
    "vas_time = vas\n",
    "tel_time = telya\n",
    "if pet_time <= vas_time:\n",
    "    if pet_time <= tel_time:\n",
    "        print(pet)\n",
    "    elif vas_time >= tel_time:\n",
    "        print(telya)\n",
    "elif vas_time <= tel_time:\n",
    "    print(vas)\n",
    "else:\n",
    "    print(telya)"
   ]
  },
  {
   "cell_type": "markdown",
   "metadata": {},
   "source": [
    "### J. The best defense is encryption\n",
    "\n",
    "Kolya was afraid that Anya would spy on all his passwords in the notebook, so he decided to encrypt them. To do this, he takes the original password - a three-digit number - and uses it to construct a new number according to the following rules:\n",
    "\n",
    "finds the sum of the digits standing in the two lowest bits (tens and ones); finds the sum of the digits standing in the two highest bits (hundreds and tens) These two sums, written one after another, in non-increasing order, form the new number. Help me implement an encryption algorithm.\n",
    "\n",
    "Input format One three-digit number\n",
    "\n",
    "Output format Encryption result"
   ]
  },
  {
   "cell_type": "code",
   "execution_count": null,
   "metadata": {},
   "outputs": [],
   "source": [
    "val = int(input())\n",
    "first = (val % 10) + (val % 100 // 10)\n",
    "second = (val % 100 // 10) + (val // 100)\n",
    "if first >= second:\n",
    "    print(f'{first}{second}')\n",
    "else:\n",
    "    print(f'{second}{first}')"
   ]
  },
  {
   "cell_type": "markdown",
   "metadata": {},
   "source": [
    "### K. Beauty will save the world\n",
    "\n",
    "One of the ancient beliefs says that a three-digit number is beautiful if the sum of its minimum and maximum digits equals the remaining digit multiplied by 2.\n",
    "\n",
    "Write a system defining the beauty of a number.\n",
    "\n",
    "Input format One three-digit number\n",
    "\n",
    "Output format YES - if the number is beautiful, otherwise NO"
   ]
  },
  {
   "cell_type": "code",
   "execution_count": null,
   "metadata": {},
   "outputs": [],
   "source": [
    "val = input()\n",
    "val = [int(x) for x in val]\n",
    "val.sort()\n",
    "var = val[0] + val[2]\n",
    "if var == 2 * val[1]:\n",
    "    print(\"YES\")\n",
    "else:\n",
    "    print(\"NO\")"
   ]
  },
  {
   "cell_type": "markdown",
   "metadata": {},
   "source": [
    "### L. Musical Instrument\n",
    "\n",
    "There are many musical instruments, but Vasya loves the triangle.\n",
    "\n",
    "He has some aluminum tubes of different lengths lying around, and he wonders if he can make his favorite musical instrument out of them.\n",
    "\n",
    "Input format Three numbers are the lengths of the tubes, each on a new line.\n",
    "\n",
    "The output format is YES - if Vasya succeeds in making a musical triangle, otherwise NO\n",
    "\n",
    "Note that in a triangle any side is smaller than the sum of the other two."
   ]
  },
  {
   "cell_type": "code",
   "execution_count": null,
   "metadata": {},
   "outputs": [],
   "source": [
    "val = int(input())\n",
    "val1 = int(input())\n",
    "val2 = int(input())\n",
    "val = [val, val1, val2]\n",
    "val = [int(x) for x in val]\n",
    "if ((val[0] + val[1]) > val[2]):\n",
    "    if ((val[1] + val[2]) > val[0]):\n",
    "        if ((val[2] + val[0]) > val[1]):\n",
    "            print(\"YES\")\n",
    "        else:\n",
    "            print(\"NO\")\n",
    "    else:\n",
    "        print(\"NO\")\n",
    "else:\n",
    "    print(\"NO\")"
   ]
  },
  {
   "cell_type": "markdown",
   "metadata": {},
   "source": [
    "### M. Lord of Numbers: The Fellowship of the Common Number.\n",
    "\n",
    "In the days of magic and dragons, there was a belief that numbers had great power to change the world.\n",
    "\n",
    "It all began with the writing of the great numbers. Three numbers were given to the elves. Seven were given to the lords of the dwarves. And nine... ...were given to the human race.\n",
    "\n",
    "But they were all deceived because there was another number. In the land of Numia, on dark papyrus paper the lord Zeron secretly wrote the One Number that subordinates all the great numbers.\n",
    "\n",
    "Let's find out what this number is.\n",
    "\n",
    "Input format The first line contains the two-digit number of one of the Elves. In the second line, the Dwarves. The third line is Humans.\n",
    "\n",
    "Output format One digit - common to all three numbers in the same position"
   ]
  },
  {
   "cell_type": "code",
   "execution_count": null,
   "metadata": {},
   "outputs": [],
   "source": [
    "var = input()\n",
    "vab = input()\n",
    "van = input()\n",
    "var = [int(x) for x in var]\n",
    "vab = [int(x) for x in vab]\n",
    "van = [int(x) for x in van]\n",
    "stat = False\n",
    "\n",
    "\n",
    "def check(a, b, c):\n",
    "    if (a == b) and (b == c):\n",
    "        stat = True\n",
    "    else:\n",
    "        stat = False\n",
    "    return stat\n",
    "\n",
    "\n",
    "if check(var[0], vab[0], van[0]):\n",
    "    print(var[0])\n",
    "if (check(var[1], vab[1], van[1])):\n",
    "    print(var[1])\n"
   ]
  },
  {
   "cell_type": "markdown",
   "metadata": {},
   "source": [
    "### N. Lord of Numbers: The Two Towers.\n",
    "\n",
    "In a time when people believed in the great power of numbers, it turned out that the wizard Pythuman betrayed all nations and began to help Zeron.\n",
    "\n",
    "To visit the towers of both villains at the same time, we must divide the magic of the number that protected us on the road.\n",
    "\n",
    "To divide a three-digit number, we need to make the minimum and maximum possible two-digit numbers from it.\n",
    "\n",
    "Input format One three-digit number.\n",
    "\n",
    "Output format Two protective numbers for each squad, written with a space."
   ]
  },
  {
   "cell_type": "code",
   "execution_count": null,
   "metadata": {},
   "outputs": [],
   "source": [
    "value = input()\n",
    "value = [int(x) for x in value]\n",
    "value.sort()\n",
    "if value[0] > 0:\n",
    "    print(f'{value[0]}{value[1]} {value[2]}{value[1]}')\n",
    "else:\n",
    "    print(f'{value[1]}{value[0]} {value[2]}{value[1]}')"
   ]
  },
  {
   "cell_type": "markdown",
   "metadata": {},
   "source": [
    "### O. Lord of Numbers: Return of Caesar.\n",
    "\n",
    "One step away from defeating evil is to destroy Zeron's lair.\n",
    "\n",
    "To do so, you must create a three-digit magic number that is stronger than Zeron's two two-digit protective numbers.\n",
    "\n",
    "The easiest way to create a strong number:\n",
    "\n",
    "Take the maximum digit of all the protective numbers first; take the minimum digit last; put the sum of the remaining digits in the middle without taking into account digit carryover. Help to overcome evil.\n",
    "\n",
    "Input format The two lines contain the protective numbers of Zeron.\n",
    "\n",
    "Output format One three-digit number that will lead to the victory."
   ]
  },
  {
   "cell_type": "code",
   "execution_count": null,
   "metadata": {},
   "outputs": [],
   "source": [
    "n = int(input())\n",
    "m = int(input())\n",
    "a = n % 10\n",
    "b = n // 10 % 10\n",
    "c = m % 10\n",
    "d = m // 10 % 10\n",
    "sr = (a + b + c + d - max(a, b, c, d) - min(a, b, c, d)) % 10\n",
    "print(f'{max(a, b, c, d)}{sr}{min(a, b, c, d)}')"
   ]
  },
  {
   "cell_type": "markdown",
   "metadata": {},
   "source": [
    "### P. The cycling legends are back: Who's the fastest?\n",
    "\n",
    "In the new season, the best of the best are once again fighting for the championship in cycling. The final course is 43872m, and everyone wants to know who will win the gold medal.\n",
    "\n",
    "We know the average speeds of three contenders for the victory - Petya, Vasya and Tolya. Which of them will win?\n",
    "\n",
    "Input format The first line shows the average speed of Peter. The second - Vasya. The third line shows Tolya.\n",
    "\n",
    "Output format Beautiful pedestal (the width of steps is 8 characters)."
   ]
  },
  {
   "cell_type": "code",
   "execution_count": null,
   "metadata": {},
   "outputs": [],
   "source": [
    "pet = int(input())\n",
    "vas = int(input())\n",
    "telya = int(input())\n",
    "pet_time = 43872 / pet\n",
    "vas_time = 43872 / vas\n",
    "tel_time = 43872 / telya\n",
    "if pet_time <= vas_time:\n",
    "    if pet_time <= tel_time:\n",
    "        mest1 = \"Петя\"\n",
    "        if vas_time <= tel_time:\n",
    "            mest2 = \"Вася\"\n",
    "            mest3 = \"Толя\"\n",
    "        else:\n",
    "            mest2 = \"Толя\"\n",
    "            mest3 = \"Вася\"\n",
    "    elif vas_time >= tel_time:\n",
    "        mest1 = \"Толя\"\n",
    "        mest2 = \"Петя\"\n",
    "        mest3 = \"Вася\"\n",
    "elif vas_time <= tel_time:\n",
    "    mest1 = \"Вася\"\n",
    "    if pet_time < tel_time:\n",
    "        mest2 = \"Петя\"\n",
    "        mest3 = \"Толя\"\n",
    "    else:\n",
    "        mest2 = \"Толя\"\n",
    "        mest3 = \"Петя\"\n",
    "else:\n",
    "    mest1 = \"Толя\"\n",
    "    mest2 = \"Вася\"\n",
    "    mest3 = \"Петя\"\n",
    "    \n",
    "print(\"{:^8}{:^8}{:^8}\".format(\" \", mest1, \" \"))\n",
    "print(\"{:^8}{:^8}{:^8}\".format(mest2, \" \", \" \"))\n",
    "print(\"{:^8}{:^8}{:^8}\".format(\" \", \" \", mest3))\n",
    "print(\"{:^8}{:^8}{:^8}\".format(\"II\", \"I\", \"III\"))"
   ]
  },
  {
   "cell_type": "markdown",
   "metadata": {},
   "source": [
    "### Q. The Root of Evil\n",
    "\n",
    "Not everyone likes mathematics, and some even consider it a real evil in the flesh, although there's no getting away from it. For example, Python was originally developed only for solving mathematical problems, so let's use it to find the roots of a quadratic equation.\n",
    "\n",
    "Input format Enter 3 real numbers aa, bb, cc - the coefficients of an equation of the form: {ax}^2+{bx}+c=0ax 2 +bx+c=0.\n",
    "\n",
    "Output format If the equation has no solutions - print \"No solution\". If the number of roots is finite - they need to be printed through the gap in ascending order to within hundredths. If the number of roots is infinite - print \"Infinite solutions\".\n",
    "\n",
    "Note that there are no restrictions on the values of the coefficients."
   ]
  },
  {
   "cell_type": "code",
   "execution_count": null,
   "metadata": {},
   "outputs": [],
   "source": [
    "import math\n",
    "a = float(input())\n",
    "b = float(input())\n",
    "c = float(input())\n",
    "discriminant = b ** 2 - (4 * a * c)\n",
    "if (a != 0) and (discriminant > 0):\n",
    "    root1 = (-1 * b + math.sqrt(discriminant)) / (2 * a)\n",
    "    root2 = (-1 * b - math.sqrt(discriminant)) / (2 * a)\n",
    "    root = [root1, root2]\n",
    "    root.sort()\n",
    "    print(f'{root[0]:.2f} {root[1]:.2f}')\n",
    "elif (a != 0) and (discriminant == 0):\n",
    "    root = (-b / (2 * a))\n",
    "    print(\"{:.2f}\".format(root))\n",
    "elif (a != 0) and (discriminant < 0):\n",
    "    print(\"No solution\")\n",
    "elif (a == 0) and (b == 0) and (c == 0):\n",
    "    print(\"Infinite solutions\")\n",
    "elif a == 0 and b != 0 and c != 0:\n",
    "    root = -(c / b)\n",
    "    print(\"{:.2f}\".format(root))\n",
    "elif a == 0 and b == 0 and c != 0:\n",
    "    print(\"No solution\")\n",
    "elif a == 0 and b != 0 and c == 0:\n",
    "    root = 0\n",
    "    print(\"{:.2f}\".format(root))\n",
    "elif a != 0 and b == 0 and c == 0:\n",
    "    root = 0\n",
    "    print(\"{:.2f}\".format(root))\n",
    "elif a != 0 and b != 0 and c == 0:\n",
    "    root1 = 0\n",
    "    root2 = -(b / a)\n",
    "    print(min(root1, root2), max(root1, root2), sep=' ')"
   ]
  },
  {
   "cell_type": "markdown",
   "metadata": {},
   "source": [
    "### R. Evil Territory\n",
    "\n",
    "In ancient times, it was believed that if any area is a triangle, it contains a terrible evil.\n",
    "\n",
    "At the same time, people assessed the risk of encountering evil by the shape of that triangle:\n",
    "\n",
    "in an acute-angled triangle, the probability of encountering evil was extremely small; in an obtuse-angled triangle, it was high; in a rectangular triangle, it was 100%. Write a program that, by the length of the sides of the triangular terrain, determines the probability of encountering evil.\n",
    "\n",
    "Input format Three numbers are the lengths of the sides of the triangular terrain.\n",
    "\n",
    "Output format The probability of encountering evil according to the belief is:\n",
    "\n",
    "Extremely small; Great; 100%"
   ]
  },
  {
   "cell_type": "code",
   "execution_count": null,
   "metadata": {},
   "outputs": [],
   "source": [
    "side1 = int(input())\n",
    "side2 = int(input())\n",
    "side3 = int(input())\n",
    "\n",
    "\n",
    "def checkRec(a, b, c):\n",
    "    if (a * a == (b * b + c * c)) or (b * b == (a * a + c * c)) or (c * c == (b * b + a * a)):\n",
    "        return \"rec\"\n",
    "    elif (a * a > (b * b + c * c)) or (b * b > (a * a + c * c)) or (c * c > (b * b + a * a)):\n",
    "        return \"obtus\"\n",
    "    elif (a * a < (b * b + c * c)) or (b * b < (a * a + c * c)) or (c * c < (b * b + a * a)):\n",
    "        return \"acute\"\n",
    "\n",
    "\n",
    "if checkRec(side1, side2, side3) == \"rec\":\n",
    "    print(\"100%\")\n",
    "elif checkRec(side1, side2, side3) == \"obtus\":\n",
    "    print(\"велика\")\n",
    "elif checkRec(side1, side2, side3) == \"acute\":\n",
    "    print(\"крайне мала\")"
   ]
  },
  {
   "cell_type": "markdown",
   "metadata": {},
   "source": [
    "### S. Security Automation\n",
    "\n",
    "A team of explorers is about to land on an incredibly flat island, but satellite reconnaissance reveals that there is an area of quicksand on the island.\n",
    "\n",
    "To improve the safety of the expedition, it was decided to develop a warning system that would alert the explorers to the danger. And to cut manufacturing costs it was decided to order software.\n",
    "\n",
    "Scheme\n",
    "\n",
    "Write a program that, based on the coordinates of the explorer, will report safety at that point.\n",
    "\n",
    "Input format Two rational numbers are the coordinates of the researcher."
   ]
  },
  {
   "cell_type": "code",
   "execution_count": null,
   "metadata": {},
   "outputs": [],
   "source": [
    "x = float(input())\n",
    "y = float(input())\n",
    "r1 = 5\n",
    "r2 = 10\n",
    "c1 = (x ** 2 + y ** 2) ** 0.5  # triangle hypotenuse with legs == sides from point 0 to points - projections on the axis\n",
    "c2 = (x ** 2 + y ** 2) ** 0.5  # main, large circle q \n",
    "y_para = (0.25 * (x ** 2)) + (0.5 * x) + 8.75\n",
    "\"\"\"\"Check to which quarter the point belongs according to the coordinates entered by the user,\n",
    "and then we already consider which areas the point itself falls into\"\"\"\n",
    " \n",
    "if x > 0 and y > 0:  # point in the first quarter of the coordinate system \n",
    "    if c1 <= r1:  # check if the point is inside the red quarter of the circle \n",
    "        print(\"Опасность! Покиньте зону как можно скорее!\")\n",
    "    elif c2 > r2:  # checking if the point is outside a quarter of the big (green) circle \n",
    "        print(\"Вы вышли в море и рискуете быть съеденным акулой!\")\n",
    "    else:  # the case when the point lies only in the green field \n",
    "        print(\"Зона безопасна. Продолжайте работу.\")\n",
    "elif x < 0 and y > 0:  # point in the second quarter of the coordinate system \n",
    "    if y <= 5 and y <= ((5 * x) + 35) / 3:\n",
    "        print(\"Опасность! Покиньте зону как можно скорее!\")\n",
    "    elif c2 > r2:  # check if the point is outside the quarter of the big (green) circle \n",
    "        print(\"Вы вышли в море и рискуете быть съеденным акулой!\")\n",
    "    else:\n",
    "        print(\"Зона безопасна. Продолжайте работу.\")\n",
    "elif (x > 0 and y < 0) or (x < 0 and y < 0):   # a point in the third or fourth quarter of the coordinate system \n",
    "    if y < y_para:   # check if the point is in the area above the parabola (inside its branches) \n",
    "        print(\"Опасность! Покиньте зону как можно скорее!\")\n",
    "    elif c2 > r2:   # check if the point is outside a quarter of the big (green) circle \n",
    "        print(\"Вы вышли в море и рискуете быть съеденным акулой!\")\n",
    "    else:\n",
    "        print(\"Зона безопасна. Продолжайте работу.\")"
   ]
  },
  {
   "cell_type": "markdown",
   "metadata": {},
   "source": [
    "## T. Bunny - 2.\n",
    "\n",
    "On the way home, the parents once again decided to play a game of animal finder with the children.\n",
    "\n",
    "Input format Three lines describing the roadside area.\n",
    "\n",
    "Output format A string with a bunny in it and then its length. If there are several such strings, choose the one that is the shortest lexicographically."
   ]
  },
  {
   "cell_type": "code",
   "execution_count": null,
   "metadata": {},
   "outputs": [],
   "source": [
    "one = str(input())\n",
    "two = str(input())\n",
    "three = str(input())\n",
    "dl = 1000\n",
    "mini = 'яяя'\n",
    "if 'зайка' in one:\n",
    "    mini = one\n",
    "    dl = len(one)\n",
    "if 'зайка' in two and two < mini:\n",
    "    mini = two\n",
    "    dl = len(two) \n",
    "if 'зайка' in three and three < mini:\n",
    "    mini = three\n",
    "    dl = len(three) \n",
    "print(f'{mini} {dl}') "
   ]
  },
  {
   "cell_type": "code",
   "execution_count": null,
   "metadata": {},
   "outputs": [],
   "source": []
  }
 ],
 "metadata": {
  "kernelspec": {
   "display_name": "Python 3 (ipykernel)",
   "language": "python",
   "name": "python3"
  },
  "language_info": {
   "codemirror_mode": {
    "name": "ipython",
    "version": 3
   },
   "file_extension": ".py",
   "mimetype": "text/x-python",
   "name": "python",
   "nbconvert_exporter": "python",
   "pygments_lexer": "ipython3",
   "version": "3.10.9"
  }
 },
 "nbformat": 4,
 "nbformat_minor": 2
}
