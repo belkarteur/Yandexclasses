{
 "cells": [
  {
   "cell_type": "markdown",
   "id": "42297f75",
   "metadata": {},
   "source": [
    "### A. One two three! Christmas tree, burn!\n",
    "A New Year's matinee is held in the kindergarten. With the knowledge of numbers and their order, children still have small problems, but everyone knows the number three without exception.\n",
    "\n",
    "Write a program that lights up the Christmas tree when all the children shout \"Three!\"\n",
    "\n",
    "Input Format\n",
    "The screams of children are introduced.\n",
    "\n",
    "Output Format\n",
    "Display \"Standby mode ...\" until the children shout \"Three!\".\n",
    "At the end, bring out \"Christmas tree, burn!\""
   ]
  },
  {
   "cell_type": "code",
   "execution_count": 1,
   "id": "95a4941b",
   "metadata": {},
   "outputs": [
    {
     "name": "stdout",
     "output_type": "stream",
     "text": [
      "a\n",
      "Режим ожидания...\n",
      "s\n",
      "Режим ожидания...\n",
      "a\n",
      "Режим ожидания...\n",
      "d\n",
      "Режим ожидания...\n",
      "10\n",
      "Режим ожидания...\n",
      "Три!\n",
      "Ёлочка, гори!\n"
     ]
    }
   ],
   "source": [
    "while input() != \"Три!\":\n",
    "    print(\"Режим ожидания...\")\n",
    "else:\n",
    "    print(\"Ёлочка, гори!\")"
   ]
  },
  {
   "cell_type": "code",
   "execution_count": null,
   "id": "0a1f4a14",
   "metadata": {},
   "outputs": [],
   "source": [
    "while input() != \"Three!\":\n",
    "    print(\"Standby...\")\n",
    "else:\n",
    "    print(\"Christmas tree, burn!\")"
   ]
  },
  {
   "cell_type": "markdown",
   "id": "d0d3e127",
   "metadata": {},
   "source": [
    "### B. Bunny — 3\n",
    "In the task book for the second lecture, we helped the children look for a hare.\n",
    "This time we will look for and count several bunnies at once.\n",
    "\n",
    "Input Format\n",
    "Lines describing the roadside terrain are introduced.\n",
    "At the end of the trip, \"We have arrived!\"\n",
    "\n",
    "Output Format\n",
    "The number of rows in which there is a bunny."
   ]
  },
  {
   "cell_type": "code",
   "execution_count": 2,
   "id": "1014450b",
   "metadata": {},
   "outputs": [
    {
     "name": "stdout",
     "output_type": "stream",
     "text": [
      "зайка березка\n",
      "березка зайка\n",
      "березка елочка березка\n",
      "Приехали!\n",
      "2\n"
     ]
    }
   ],
   "source": [
    "n = 0\n",
    "while (text := input()) != 'we have arrived!':\n",
    "    if 'bunny' in text:\n",
    "        n = n + 1\n",
    "print(n)"
   ]
  },
  {
   "cell_type": "markdown",
   "id": "8c7ddcac",
   "metadata": {},
   "source": [
    "### C. Counting\n",
    "Children in kindergarten learn numbers, and we can help them with this.\n",
    "The guys give us two numbers - the beginning and the end of a sequence of numbers.\n",
    "Our task is to display all the numbers from beginning to end, filling the gap between them.\n",
    "\n",
    "Input Format\n",
    "Two numbers in ascending order, each on a new line.\n",
    "\n",
    "Output Format\n",
    "All numbers from beginning to end (inclusive), separated by a space."
   ]
  },
  {
   "cell_type": "code",
   "execution_count": 1,
   "id": "7ea21cf1",
   "metadata": {},
   "outputs": [
    {
     "name": "stdout",
     "output_type": "stream",
     "text": [
      "-3\n",
      "3\n",
      "-3 -2 -1 0 1 2 3 "
     ]
    }
   ],
   "source": [
    "start = int(input())\n",
    "end = int(input())\n",
    "n = start\n",
    "while n <= end:\n",
    "    print(n, end=' ')\n",
    "    n = n + 1"
   ]
  },
  {
   "cell_type": "markdown",
   "id": "4ddc9506",
   "metadata": {},
   "source": [
    "### D. Counting 2.0\n",
    "Children continue to memorize numbers, and we help them.\n",
    "We are again called the beginning and end of a sequence of numbers, and we deduce them and the numbers between.\n",
    "\n",
    "Input Format\n",
    "Two numbers, each on a new line.\n",
    "\n",
    "Output Format\n",
    "All numbers from beginning to end (inclusive), separated by a space."
   ]
  },
  {
   "cell_type": "code",
   "execution_count": 21,
   "id": "bacf3914",
   "metadata": {},
   "outputs": [
    {
     "name": "stdout",
     "output_type": "stream",
     "text": [
      "3\n",
      "-4\n",
      "3 2 1 0 -1 -2 -3 -4 "
     ]
    }
   ],
   "source": [
    "start = int(input())\n",
    "end = int(input())\n",
    "n = start\n",
    "if start <= end:\n",
    "    while n <= end:\n",
    "        print(n, end=' ')\n",
    "        n = n + 1\n",
    "else:\n",
    "    n = start\n",
    "    while n != end - 1:\n",
    "        print(n, end=' ')\n",
    "        n = n - 1"
   ]
  },
  {
   "cell_type": "markdown",
   "id": "4c50c87c",
   "metadata": {},
   "source": [
    "### E. Attention! Share!\n",
    "The grocery store announced a promotion: \"A 500% discount is provided for all goods with a price of at least 10 tugriks.\"\n",
    "We were asked to develop cash register software that would calculate the total purchase amount, taking into account the discount.\n",
    "\n",
    "Input Format: \n",
    "A certain number of rational numbers is introduced - the cost of goods.\n",
    "The list ends with a value of 0.\n",
    "\n",
    "Output Format: \n",
    "It is required to withdraw the amount of all goods, taking into account the announced promotion."
   ]
  },
  {
   "cell_type": "code",
   "execution_count": 23,
   "id": "95c7c863",
   "metadata": {},
   "outputs": [
    {
     "name": "stdout",
     "output_type": "stream",
     "text": [
      "512\n",
      "499\n",
      "342.50\n",
      "0\n",
      "1302.3\n"
     ]
    }
   ],
   "source": [
    "sum = 0\n",
    "while (value := float(input())) != 0:\n",
    "    if value >= 500:\n",
    "        sum = sum + (value - 0.1 * value)\n",
    "    else:\n",
    "        sum = sum + value\n",
    "print(sum)"
   ]
  },
  {
   "cell_type": "markdown",
   "id": "92ccebde",
   "metadata": {},
   "source": [
    "### F. GCD\n",
    "In one of the local research institutes, it is often necessary to find the greatest common divisor (GCD) of two numbers.\n",
    "You are already trusted as one of the best \"automators\" in the area, so the management of the research institute decided to order software from you.\n",
    "\n",
    "Input Format: \n",
    "Two natural numbers are entered, each on its own line.\n",
    "\n",
    "Output Format: \n",
    "It is required to display one natural number - the GCD of two given numbers.\n",
    "\n",
    "Note\n",
    "The most common way to search for GCD is the Euclidean algorithm."
   ]
  },
  {
   "cell_type": "code",
   "execution_count": 55,
   "id": "c40f904c",
   "metadata": {},
   "outputs": [
    {
     "name": "stdout",
     "output_type": "stream",
     "text": [
      "512\n",
      "625\n",
      "1\n"
     ]
    }
   ],
   "source": [
    "first_number = int(input())\n",
    "second_number = int(input())\n",
    "\n",
    "\n",
    "def gcd_fun(a, b):\n",
    "    gcd = 0\n",
    "    if a == 0 and b != 0:\n",
    "        gcd = b\n",
    "        return gcd\n",
    "    elif a != 0 and b == 0:\n",
    "        gcd = a\n",
    "        return gcd\n",
    "    else:\n",
    "        if a > b:\n",
    "            remainder = a % b\n",
    "            gcd = gcd_fun(b, remainder)\n",
    "        else:\n",
    "            remainder = b % a\n",
    "            gcd = gcd_fun(a, remainder)\n",
    "    return gcd\n",
    "\n",
    "    \n",
    "print(gcd_fun(first_number, second_number))"
   ]
  },
  {
   "cell_type": "markdown",
   "id": "28e1c9ed",
   "metadata": {},
   "source": [
    "### G. NOC\n",
    "After a while, the research institute needed to find the smallest common multiple (LCM) of the two numbers. They turned to us again for help.\n",
    "\n",
    "Input Format\n",
    "Two natural numbers are entered, each on its own line.\n",
    "\n",
    "Output Format\n",
    "It is required to display one natural number - the LCM of two given numbers.\n"
   ]
  },
  {
   "cell_type": "code",
   "execution_count": 58,
   "id": "ab576e84",
   "metadata": {},
   "outputs": [
    {
     "name": "stdout",
     "output_type": "stream",
     "text": [
      "512\n",
      "625\n",
      "320000\n"
     ]
    }
   ],
   "source": [
    "first_number = int(input())\n",
    "second_number = int(input())\n",
    "\n",
    "\n",
    "def gcd_fun(a, b):\n",
    "    gcd = 0\n",
    "    if a == 0 and b != 0:\n",
    "        gcd = b\n",
    "        return gcd\n",
    "    elif a != 0 and b == 0:\n",
    "        gcd = a\n",
    "        return gcd\n",
    "    else:\n",
    "        if a > b:\n",
    "            remainder = a % b\n",
    "            gcd = gcd_fun(b, remainder)\n",
    "        else:\n",
    "            remainder = b % a\n",
    "            gcd = gcd_fun(a, remainder)\n",
    "    return gcd\n",
    "\n",
    "\n",
    "def lcm_fun(a,b):\n",
    "    gcd = gcd_fun(a,b)\n",
    "    lcm = (a * b) // gcd\n",
    "    return lcm\n",
    "\n",
    "\n",
    "print(lcm_fun(first_number, second_number))"
   ]
  },
  {
   "cell_type": "markdown",
   "id": "3094043a",
   "metadata": {},
   "source": [
    "### H. Redundant Automation 2.0\n",
    "And what happens if, as in the first chapter, we combine the two principles of repetition and automation?\n",
    "\n",
    "Input Format\n",
    "The first line contains very useful information. In the second natural number \n",
    "\n",
    "N is the number of times that it needs to be repeated in order for it to gain a foothold.\n",
    "\n",
    "Output Format\n",
    "\n",
    "N Very useful information has been repeated once."
   ]
  },
  {
   "cell_type": "code",
   "execution_count": 60,
   "id": "0bc74179",
   "metadata": {},
   "outputs": [
    {
     "name": "stdout",
     "output_type": "stream",
     "text": [
      "Нельзя нажимать неизвестные кнопки!\n",
      "4\n",
      "Нельзя нажимать неизвестные кнопки!\n",
      "Нельзя нажимать неизвестные кнопки!\n",
      "Нельзя нажимать неизвестные кнопки!\n",
      "Нельзя нажимать неизвестные кнопки!\n"
     ]
    }
   ],
   "source": [
    "val = input()\n",
    "rep = int(input())\n",
    "n = 0\n",
    "\n",
    "while n < rep:\n",
    "    print(val)\n",
    "    n += 1"
   ]
  },
  {
   "cell_type": "markdown",
   "id": "0a43cb72",
   "metadata": {},
   "source": [
    "### I. Factorial\n",
    "Scientists urgently need software that finds the factorial of a number.\n",
    "\n",
    "Input Format\n",
    "A single non-negative number is entered.\n",
    "\n",
    "Output Format\n",
    "It is required to display one natural number - the factorial of a given number.\n",
    "\n",
    "Notes\n",
    "The factorial of zero is assumed to be equal to 1."
   ]
  },
  {
   "cell_type": "code",
   "execution_count": 64,
   "id": "b0019ee2",
   "metadata": {},
   "outputs": [
    {
     "name": "stdout",
     "output_type": "stream",
     "text": [
      "5\n",
      "120\n"
     ]
    }
   ],
   "source": [
    "val = int(input())\n",
    "\n",
    "\n",
    "def facto(a):\n",
    "    n = 1\n",
    "    fac = 1\n",
    "    if val == 0 or val == 1:\n",
    "        fac = 1\n",
    "    else:\n",
    "        while n <= a:\n",
    "            fac = fac * n\n",
    "            n = n + 1\n",
    "    return fac\n",
    "\n",
    "\n",
    "print(facto(val))"
   ]
  },
  {
   "cell_type": "markdown",
   "id": "17631741",
   "metadata": {},
   "source": [
    "### J. The route is built\n",
    "Navigation has been important at all times.\n",
    "We got an archive of traffic routes, but there were so many of them that without automation we will not be able to cope with them forever. Each route is a sequence of steps in one of four directions: *NORTH; *EAST; *SOUTH; *WEST.\n",
    "\n",
    "Write a program so that it determines exactly at what point we will find ourselves along a given route.\n",
    "For simplicity, let's assume that at the beginning of the route we are at the point (0; 0).\n",
    "\n",
    "Input Format\n",
    "Route instructions are entered in the form:\n",
    "<\"direction\"> <\"number of steps\">\n",
    "\n",
    "The input ends with the STOP line.\n",
    "\n",
    "Output Format\n",
    "Two integers are the coordinates of the end point of the route."
   ]
  },
  {
   "cell_type": "code",
   "execution_count": 4,
   "id": "87155437",
   "metadata": {},
   "outputs": [
    {
     "name": "stdout",
     "output_type": "stream",
     "text": [
      "north\n",
      "2\n",
      "south\n",
      "3\n",
      "west\n",
      "4\n",
      "stop\n",
      "-1\n",
      "-4\n"
     ]
    }
   ],
   "source": [
    "x = 0\n",
    "y = 0\n",
    "while (value := input()).lower() != \"stop\":\n",
    "    steps = int(input())\n",
    "    if value.lower() == \"north\":\n",
    "        y = y + steps\n",
    "    if value.lower() == \"south\":\n",
    "        y = y - steps\n",
    "    if value.lower() == \"west\":\n",
    "        x = x - steps\n",
    "    if value.lower() == \"east\":\n",
    "        x = x + steps\n",
    "print(y)\n",
    "print(x)\n",
    "    "
   ]
  },
  {
   "cell_type": "markdown",
   "id": "3e85093c",
   "metadata": {},
   "source": [
    "### K. Digital Sum\n",
    "Sometimes you need to manipulate the digits of numbers.\n",
    "One of the easiest things you can do is find the sum of the digits of a number. Write a program to perform this action.\n",
    "\n",
    "Input Format\n",
    "A single natural number is entered.\n",
    "\n",
    "Output Format\n",
    "It is required to display one natural number - the sum of the digits of the original."
   ]
  },
  {
   "cell_type": "code",
   "execution_count": 7,
   "id": "f899fc9c",
   "metadata": {},
   "outputs": [
    {
     "name": "stdout",
     "output_type": "stream",
     "text": [
      "100500\n",
      "6\n"
     ]
    }
   ],
   "source": [
    "value = input()\n",
    "sum = 0\n",
    "for pos, val in enumerate(value):\n",
    "    sum = sum + int(val)\n",
    "print(sum)"
   ]
  },
  {
   "cell_type": "markdown",
   "id": "213dfac5",
   "metadata": {},
   "source": [
    "### L. Strong figure\n",
    "Let's try to perform one more simple step - find the maximum digit of the number.\n",
    "\n",
    "Input Format\n",
    "A single natural number is entered.\n",
    "\n",
    "Output Format\n",
    "It is required to display one natural number - the maximum digit of the original one."
   ]
  },
  {
   "cell_type": "code",
   "execution_count": 11,
   "id": "3a21b6ae",
   "metadata": {},
   "outputs": [
    {
     "name": "stdout",
     "output_type": "stream",
     "text": [
      "12345\n",
      "5\n"
     ]
    }
   ],
   "source": [
    "value = input()\n",
    "value = [x for x in value]\n",
    "value.sort()\n",
    "print(value[-1])"
   ]
  },
  {
   "cell_type": "markdown",
   "id": "5ddd54b5",
   "metadata": {},
   "source": [
    "### M. Player One Get Ready 2.0\n",
    "In many games, the order of moves is determined by the roll of a dice or coin, and in ours, the first one whose name is lexicographically smaller goes. Determine which player will go first.\n",
    "\n",
    "Input Format\n",
    "The first line contains one natural number $N$ - the number of players. In each of the following $N$ lines, one player name is indicated.\n",
    "\n",
    "Output Format\n",
    "The name of the player who will go first."
   ]
  },
  {
   "cell_type": "code",
   "execution_count": 18,
   "id": "a591159a",
   "metadata": {},
   "outputs": [
    {
     "name": "stdout",
     "output_type": "stream",
     "text": [
      "4\n",
      "zzzz\n",
      "aaaa\n",
      "abbb\n",
      "vvvv\n",
      "aaaa\n"
     ]
    }
   ],
   "source": [
    "number_of_players = int(input())\n",
    "list_names = []\n",
    "n = 1\n",
    "while n <= number_of_players:\n",
    "    name = input()\n",
    "    list_names.append(name)\n",
    "    n += 1\n",
    "list_names.sort()\n",
    "print(list_names[0])"
   ]
  },
  {
   "cell_type": "markdown",
   "id": "6332da4a",
   "metadata": {},
   "source": [
    "### N. A simple task\n",
    "One of the most interesting types of numbers in mathematics is prime numbers. They are united by the fact that they are divided only by 1 and by themselves. Until now, they are studied by scientists around the world. They are also used in computing: they can be used to write algorithms to encrypt data. Let's write a program to determine whether we have a prime number or not.\n",
    "\n",
    "Input Format\n",
    "A single natural number is entered.\n",
    "\n",
    "Output Format\n",
    "You want to display a YES message if the number is prime, otherwise NO.\n",
    "\n",
    "Note\n",
    "A prime is a number that has exactly two divisors."
   ]
  },
  {
   "cell_type": "code",
   "execution_count": 76,
   "id": "daceaee4",
   "metadata": {},
   "outputs": [
    {
     "name": "stdout",
     "output_type": "stream",
     "text": [
      "12\n",
      "NO\n"
     ]
    }
   ],
   "source": [
    "value = int(input())\n",
    "\n",
    "\n",
    "def isPrime(n):\n",
    "  \n",
    "    # Corner case\n",
    "    if n <= 1:\n",
    "        return False\n",
    "  \n",
    "    # Check from 2 to n-1\n",
    "    for i in range(2, (n//2) + 1):\n",
    "        if n % i == 0:\n",
    "            return False;\n",
    "  \n",
    "    return True\n",
    "        \n",
    "    \n",
    "if isPrime(value) is True:\n",
    "    print(\"YES\")\n",
    "else:\n",
    "    print(\"NO\")"
   ]
  },
  {
   "cell_type": "markdown",
   "id": "336b317b",
   "metadata": {},
   "source": [
    "### O. Bunny - 4\n",
    "Let's play with the children again and help them find bunnies.\n",
    "\n",
    "Input Format\n",
    "The first line contains a natural number \n",
    "�\n",
    "N – the number of allocated roadside areas. In each of the \n",
    "�\n",
    "N the following lines are a description of the roadside area.\n",
    "\n",
    "Output Format\n",
    "The number of rows in which there is a bunny."
   ]
  },
  {
   "cell_type": "code",
   "execution_count": 79,
   "id": "efd52bc0",
   "metadata": {},
   "outputs": [
    {
     "name": "stdout",
     "output_type": "stream",
     "text": [
      "3\n",
      "сосна сосна сосна белочка сосна белочкасосна сосна сосна белочка сосна белочка\n",
      "сосна сосна сосна елочка грибочки медведь\n",
      "березка елочка зайка волк березка\n",
      "1\n"
     ]
    }
   ],
   "source": [
    "val = int(input())\n",
    "data = list()\n",
    "n = 0\n",
    "for i in range(val):\n",
    "    data.append(input())\n",
    "matches = [match for match in data if \"зайка\" in match]\n",
    "print(len(matches))"
   ]
  },
  {
   "cell_type": "markdown",
   "id": "2ef5ddaf",
   "metadata": {},
   "source": [
    "### P. And the rose fell on the paw of Azor 2.0\n",
    "Think of palindromes, which read the same in both directions. Write a program that checks if a number is a palindrome.\n",
    "\n",
    "Input Format\n",
    "One natural number.\n",
    "\n",
    "Output Format\n",
    "YES - if the number is a palindrome, otherwise - NO."
   ]
  },
  {
   "cell_type": "code",
   "execution_count": 85,
   "id": "d8cd49d9",
   "metadata": {},
   "outputs": [
    {
     "name": "stdout",
     "output_type": "stream",
     "text": [
      "12345\n",
      "NO\n"
     ]
    }
   ],
   "source": [
    "val = input()\n",
    "val = [v for v in val]\n",
    "inv = list(reversed(val))\n",
    "inv = [n for n in inv]\n",
    "ceh = True\n",
    "for i in range(len(val)//2):\n",
    "    if val[i] != inv[i]:\n",
    "        ceh = False\n",
    "        break\n",
    "if ceh is True:\n",
    "    print(\"YES\")\n",
    "else:\n",
    "    print(\"NO\")"
   ]
  },
  {
   "cell_type": "markdown",
   "id": "9eb70f05",
   "metadata": {},
   "source": [
    "### Q. Even purity\n",
    "We're already expert enough to clear a number of certain digits, so let's write a program that will remove all even numbers from a number.\n",
    "\n",
    "Input Format\n",
    "One natural number.\n",
    "\n",
    "Output Format\n",
    "One natural number is the result of cleaning."
   ]
  },
  {
   "cell_type": "code",
   "execution_count": 7,
   "id": "63dd55ba",
   "metadata": {},
   "outputs": [
    {
     "name": "stdout",
     "output_type": "stream",
     "text": [
      "12345\n",
      "135\n"
     ]
    }
   ],
   "source": [
    "data = input()\n",
    "data = [x for x in data if (int(x) % 2 != 0)]\n",
    "result = \"\".join(x for x in data)\n",
    "print(result)"
   ]
  },
  {
   "cell_type": "markdown",
   "id": "0c93b481",
   "metadata": {},
   "source": [
    "### R. Simple Challenge 2.0\n",
    "The bank decided to rewrite the program for data encryption and asked you to take on part of this task. Write a program to factor a number into prime factors. Only carefully, because you will have to work again with prime numbers.\n",
    "\n",
    "Input Format\n",
    "A single natural number is entered.\n",
    "\n",
    "Output Format\n",
    "It is required to compose a mathematical expression - the product of simple non-decreasing numbers, which as a result gives the original."
   ]
  },
  {
   "cell_type": "code",
   "execution_count": 29,
   "id": "c4f74c62",
   "metadata": {},
   "outputs": [
    {
     "name": "stdout",
     "output_type": "stream",
     "text": [
      "98\n",
      "[2, 3, 5, 7, 11, 13, 17, 19, 23, 29, 31, 37, 41, 43, 47]\n",
      "2 * 7 * 7\n"
     ]
    }
   ],
   "source": [
    "value = int(input())\n",
    "initialVal = value\n",
    "i = 2\n",
    "\n",
    "\n",
    "def isPrime(n):\n",
    "  \n",
    "    # Corner case\n",
    "    if n <= 1:\n",
    "        return False\n",
    "  \n",
    "    # Check from 2 to n-1\n",
    "    for i in range(2, (n // 2) + 1):\n",
    "        if n % i == 0:\n",
    "            return False\n",
    "  \n",
    "    return True\n",
    "\n",
    "\n",
    "primes = []\n",
    "while i <= value // 2:\n",
    "    if isPrime(i) is True:\n",
    "        primes.append(i)\n",
    "    i = i + 1\n",
    "        \n",
    "pos = []\n",
    "somme = 1\n",
    "check = False\n",
    "\n",
    "for ps, val in enumerate(primes):\n",
    "    while value % int(val) == 0:\n",
    "        value = value / int(val)\n",
    "        pos.append(ps)\n",
    "        somme = somme * int(val)\n",
    "        if somme == initialVal:\n",
    "            check = True\n",
    "            break\n",
    "    if check is True:\n",
    "        break\n",
    "        \n",
    "result = \" * \".join(str(primes[x]) for x in pos)\n",
    "print(result) \n",
    "\n",
    "\n",
    "##simple code\n",
    "\n",
    "value = int(input())\n",
    "initialVal = value\n",
    "primes = [2, 3, 5, 7, 11, 13, 17, 19, 23, 27, 29, 31, 37]\n",
    "pos = []\n",
    "somme = 1\n",
    "check = False\n",
    "for ps, val in enumerate(primes):\n",
    "    while value % val == 0:\n",
    "        value = value / val\n",
    "        pos.append(ps)\n",
    "        somme = somme * val\n",
    "        if somme == initialVal:\n",
    "            check = True\n",
    "            break\n",
    "    if check is True:\n",
    "        break\n",
    "result = \" * \".join(str(primes[x]) for x in pos)\n",
    "print(result)  "
   ]
  },
  {
   "cell_type": "markdown",
   "id": "0c886a43",
   "metadata": {},
   "source": [
    "### S. Guessing game\n",
    "Let's simulate a guessing game between two people. To do this, you need to write a program that guesses the hidden integer from 1 to 1000 inclusive.\n",
    "The user (or testing system) guesses a number and does not tell it to your program.\n",
    "You need to guess the number in no more than 10 attempts.\n",
    "\n",
    "For each attempt, the user responds with one of the following phrases:\n",
    "\n",
    "More;\n",
    "Less;\n",
    "Guessed!\n",
    "This task is checked interactively. In other words, until you output your number, the system will not provide you with data."
   ]
  },
  {
   "cell_type": "code",
   "execution_count": 34,
   "id": "e3890cca",
   "metadata": {},
   "outputs": [
    {
     "name": "stdout",
     "output_type": "stream",
     "text": [
      "462\n",
      "200\n",
      "Больше\n",
      "400\n",
      "Больше\n",
      "462\n",
      "Угадал\n"
     ]
    },
    {
     "ename": "KeyboardInterrupt",
     "evalue": "Interrupted by user",
     "output_type": "error",
     "traceback": [
      "\u001b[1;31m---------------------------------------------------------------------------\u001b[0m",
      "\u001b[1;31mKeyboardInterrupt\u001b[0m                         Traceback (most recent call last)",
      "Cell \u001b[1;32mIn[34], line 6\u001b[0m\n\u001b[0;32m      3\u001b[0m \u001b[38;5;28mprint\u001b[39m(guessNumber)\n\u001b[0;32m      5\u001b[0m \u001b[38;5;28;01mfor\u001b[39;00m i \u001b[38;5;129;01min\u001b[39;00m \u001b[38;5;28mrange\u001b[39m(\u001b[38;5;241m10\u001b[39m):\n\u001b[1;32m----> 6\u001b[0m     valueUser \u001b[38;5;241m=\u001b[39m \u001b[38;5;28mint\u001b[39m(\u001b[38;5;28;43minput\u001b[39;49m\u001b[43m(\u001b[49m\u001b[43m)\u001b[49m)\n\u001b[0;32m      7\u001b[0m     \u001b[38;5;28;01mif\u001b[39;00m valueUser \u001b[38;5;241m==\u001b[39m guessNumber:\n\u001b[0;32m      8\u001b[0m         \u001b[38;5;28mprint\u001b[39m(\u001b[38;5;124m\"\u001b[39m\u001b[38;5;124mУгадал\u001b[39m\u001b[38;5;124m\"\u001b[39m)\n",
      "File \u001b[1;32m~\\anaconda3\\envs\\tf-gpu\\lib\\site-packages\\ipykernel\\kernelbase.py:1175\u001b[0m, in \u001b[0;36mKernel.raw_input\u001b[1;34m(self, prompt)\u001b[0m\n\u001b[0;32m   1171\u001b[0m \u001b[38;5;28;01mif\u001b[39;00m \u001b[38;5;129;01mnot\u001b[39;00m \u001b[38;5;28mself\u001b[39m\u001b[38;5;241m.\u001b[39m_allow_stdin:\n\u001b[0;32m   1172\u001b[0m     \u001b[38;5;28;01mraise\u001b[39;00m StdinNotImplementedError(\n\u001b[0;32m   1173\u001b[0m         \u001b[38;5;124m\"\u001b[39m\u001b[38;5;124mraw_input was called, but this frontend does not support input requests.\u001b[39m\u001b[38;5;124m\"\u001b[39m\n\u001b[0;32m   1174\u001b[0m     )\n\u001b[1;32m-> 1175\u001b[0m \u001b[38;5;28;01mreturn\u001b[39;00m \u001b[38;5;28;43mself\u001b[39;49m\u001b[38;5;241;43m.\u001b[39;49m\u001b[43m_input_request\u001b[49m\u001b[43m(\u001b[49m\n\u001b[0;32m   1176\u001b[0m \u001b[43m    \u001b[49m\u001b[38;5;28;43mstr\u001b[39;49m\u001b[43m(\u001b[49m\u001b[43mprompt\u001b[49m\u001b[43m)\u001b[49m\u001b[43m,\u001b[49m\n\u001b[0;32m   1177\u001b[0m \u001b[43m    \u001b[49m\u001b[38;5;28;43mself\u001b[39;49m\u001b[38;5;241;43m.\u001b[39;49m\u001b[43m_parent_ident\u001b[49m\u001b[43m[\u001b[49m\u001b[38;5;124;43m\"\u001b[39;49m\u001b[38;5;124;43mshell\u001b[39;49m\u001b[38;5;124;43m\"\u001b[39;49m\u001b[43m]\u001b[49m\u001b[43m,\u001b[49m\n\u001b[0;32m   1178\u001b[0m \u001b[43m    \u001b[49m\u001b[38;5;28;43mself\u001b[39;49m\u001b[38;5;241;43m.\u001b[39;49m\u001b[43mget_parent\u001b[49m\u001b[43m(\u001b[49m\u001b[38;5;124;43m\"\u001b[39;49m\u001b[38;5;124;43mshell\u001b[39;49m\u001b[38;5;124;43m\"\u001b[39;49m\u001b[43m)\u001b[49m\u001b[43m,\u001b[49m\n\u001b[0;32m   1179\u001b[0m \u001b[43m    \u001b[49m\u001b[43mpassword\u001b[49m\u001b[38;5;241;43m=\u001b[39;49m\u001b[38;5;28;43;01mFalse\u001b[39;49;00m\u001b[43m,\u001b[49m\n\u001b[0;32m   1180\u001b[0m \u001b[43m\u001b[49m\u001b[43m)\u001b[49m\n",
      "File \u001b[1;32m~\\anaconda3\\envs\\tf-gpu\\lib\\site-packages\\ipykernel\\kernelbase.py:1217\u001b[0m, in \u001b[0;36mKernel._input_request\u001b[1;34m(self, prompt, ident, parent, password)\u001b[0m\n\u001b[0;32m   1214\u001b[0m             \u001b[38;5;28;01mbreak\u001b[39;00m\n\u001b[0;32m   1215\u001b[0m \u001b[38;5;28;01mexcept\u001b[39;00m \u001b[38;5;167;01mKeyboardInterrupt\u001b[39;00m:\n\u001b[0;32m   1216\u001b[0m     \u001b[38;5;66;03m# re-raise KeyboardInterrupt, to truncate traceback\u001b[39;00m\n\u001b[1;32m-> 1217\u001b[0m     \u001b[38;5;28;01mraise\u001b[39;00m \u001b[38;5;167;01mKeyboardInterrupt\u001b[39;00m(\u001b[38;5;124m\"\u001b[39m\u001b[38;5;124mInterrupted by user\u001b[39m\u001b[38;5;124m\"\u001b[39m) \u001b[38;5;28;01mfrom\u001b[39;00m \u001b[38;5;28mNone\u001b[39m\n\u001b[0;32m   1218\u001b[0m \u001b[38;5;28;01mexcept\u001b[39;00m \u001b[38;5;167;01mException\u001b[39;00m:\n\u001b[0;32m   1219\u001b[0m     \u001b[38;5;28mself\u001b[39m\u001b[38;5;241m.\u001b[39mlog\u001b[38;5;241m.\u001b[39mwarning(\u001b[38;5;124m\"\u001b[39m\u001b[38;5;124mInvalid Message:\u001b[39m\u001b[38;5;124m\"\u001b[39m, exc_info\u001b[38;5;241m=\u001b[39m\u001b[38;5;28;01mTrue\u001b[39;00m)\n",
      "\u001b[1;31mKeyboardInterrupt\u001b[0m: Interrupted by user"
     ]
    }
   ],
   "source": [
    "from random import randint\n",
    "start = 0\n",
    "end = 1001\n",
    " \n",
    "number = int(input()) # загаданное число системой или игроком\n",
    "for i in range(10):\n",
    "    hidden_number = randint(start, end)\n",
    "    if hidden_number > number:\n",
    "        print(hidden_number)\n",
    "        end = hidden_number - 1\n",
    "        print('Больше')\n",
    "    elif hidden_number < number:\n",
    "        print(hidden_number)\n",
    "        print('Меньше')\n",
    "        start = hidden_number + 1\n",
    "    else:\n",
    "        print('Угадал')\n",
    "        break\n",
    "else:\n",
    "    print('Превышен лимит попыток (10)')\n"
   ]
  },
  {
   "cell_type": "markdown",
   "id": "2565f6ce",
   "metadata": {},
   "source": [
    "### T. Let's hype a little!\n",
    "Blockchain (blockchain) translates as \"chain of blocks\". This is a method of storing data that is protected from forgery. It lies, for example, at the heart of the bitcoin cryptocurrency.\n",
    "\n",
    "A blockchain is really a sequence of blocks, and each block contains some useful information. So the sequence of bitcoin is a list of transactions for a certain period of time: who, to whom, when and how much money was transferred. This list is provided with a random number and some service data, including a hash - a number that, according to a certain formula, depends on the rest of the block and the hash of the previous block.\n",
    "\n",
    "The hash must be less than a certain number. At the same time, the formula by which the hash is calculated is designed in such a way that it is impossible to get a sufficiently small hash otherwise than by going through different values of a random number. Therefore, if an attacker decides to fake the blockchain — for example, insert a block in its middle with a record that all people transferred all their money to him — he will face a problem. He will have to pick up a new random number not only in the fake block, but also in all subsequent ones, because the hash of each next block depends on the hash of the previous one.\n",
    "\n",
    "This requires incredibly large computing power, so the blockchain as a whole is protected from such attacks.\n",
    "\n",
    "Write a program that verifies the correctness of hashes on a model blockchain with a simple hash function. Block \n",
    "�\n",
    "�\n",
    "b \n",
    "n\n",
    "​\n",
    "  with the N number includes useful information \n",
    "�\n",
    "�\n",
    "m \n",
    "n\n",
    "​\n",
    " represented by a natural number, \n",
    "�\n",
    "�\n",
    "r \n",
    "n\n",
    "​\n",
    "  is a random number from 0 to 255 and \n",
    "ℎ\n",
    "�\n",
    "h \n",
    "n\n",
    "​\n",
    "  is a hash (an integer from 0 to 255). For each block, the hash is calculated using the formula \n",
    "ℎ\n",
    "�\n",
    "=\n",
    "37\n",
    "×\n",
    "(\n",
    "�\n",
    "�\n",
    "+\n",
    "�\n",
    "�\n",
    "+\n",
    "ℎ\n",
    "�\n",
    "−\n",
    "1\n",
    ")\n",
    "h \n",
    "n\n",
    "​\n",
    " =37×(m \n",
    "n\n",
    "​\n",
    " +r \n",
    "n\n",
    "​\n",
    " +h \n",
    "n−1\n",
    "​\n",
    " ) (modulo 256), when calculating the hash of the initial block \n",
    "ℎ\n",
    "0\n",
    "h \n",
    "0\n",
    "​\n",
    "  Instead of the hash of the previous block, zero is taken. In this case, each block is represented by one number \n",
    "�\n",
    "�\n",
    "=\n",
    "ℎ\n",
    "�\n",
    "+\n",
    "�\n",
    "�\n",
    "×\n",
    "256\n",
    "+\n",
    "�\n",
    "�\n",
    "×\n",
    "25\n",
    "6\n",
    "2\n",
    "b \n",
    "n\n",
    "​\n",
    " =h \n",
    "n\n",
    "​\n",
    " +r \n",
    "n\n",
    "​\n",
    " ×256+m \n",
    "n\n",
    "​\n",
    " ×256 \n",
    "2\n",
    " . It also requires that the \n",
    "ℎ\n",
    "�\n",
    "h \n",
    "n\n",
    "​\n",
    "  was less than 100."
   ]
  },
  {
   "cell_type": "code",
   "execution_count": null,
   "id": "dee8db97",
   "metadata": {},
   "outputs": [],
   "source": []
  }
 ],
 "metadata": {
  "kernelspec": {
   "display_name": "Python 3 (ipykernel)",
   "language": "python",
   "name": "python3"
  },
  "language_info": {
   "codemirror_mode": {
    "name": "ipython",
    "version": 3
   },
   "file_extension": ".py",
   "mimetype": "text/x-python",
   "name": "python",
   "nbconvert_exporter": "python",
   "pygments_lexer": "ipython3",
   "version": "3.9.16"
  }
 },
 "nbformat": 4,
 "nbformat_minor": 5
}
