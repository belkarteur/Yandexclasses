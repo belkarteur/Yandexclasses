{
 "cells": [
  {
   "cell_type": "markdown",
   "metadata": {},
   "source": [
    "# Python basics\n",
    "This project collects my solutions to problems from the Yandex handbook on Python basics.\n",
    "\n",
    "### 2.1 Data input and output. Operations with numbers, strings. Formatting\n",
    "#### A.Hello Yandex!"
   ]
  },
  {
   "cell_type": "code",
   "execution_count": 1,
   "metadata": {
    "vscode": {
     "languageId": "plaintext"
    }
   },
   "outputs": [
    {
     "name": "stdout",
     "output_type": "stream",
     "text": [
      "Привет, Яндекс!\n",
      "Hello Yandex\n"
     ]
    }
   ],
   "source": [
    "print(\"Привет, Яндекс!\")\n",
    "print(\"Hello Yandex\")"
   ]
  },
  {
   "cell_type": "markdown",
   "metadata": {},
   "source": [
    "### B. Hello, all!"
   ]
  },
  {
   "cell_type": "code",
   "execution_count": null,
   "metadata": {},
   "outputs": [],
   "source": [
    "name = input()\n",
    "print(\"Как Вас зовут?\")\n",
    "print(f\"Привет, {name}\")"
   ]
  },
  {
   "cell_type": "markdown",
   "metadata": {},
   "source": [
    "### C.Over-automation"
   ]
  },
  {
   "cell_type": "code",
   "execution_count": null,
   "metadata": {},
   "outputs": [],
   "source": [
    "var = input()\n",
    "print(var)\n",
    "print(var)\n",
    "print(var)"
   ]
  },
  {
   "cell_type": "markdown",
   "metadata": {},
   "source": [
    "### D. Change\n",
    "More often than not, automation is beneficial.\n",
    "One of the tasks in which it is better to exclude the human factor is the calculation of change.\n",
    "Determine what change you need to give to someone who bought 2.5 kg of cherries at a price of 38 rubles / kg.\n",
    "\n",
    "Input Format\n",
    "One natural number is the denomination of the user's bill ($\\ge $ 100).\n",
    "\n",
    "Output Format\n",
    "One natural number is the amount of change."
   ]
  },
  {
   "cell_type": "code",
   "execution_count": null,
   "metadata": {},
   "outputs": [],
   "source": [
    "price = int(input())\n",
    "total_price = 2.5 * 38\n",
    "inference = price - total_price\n",
    "print(int(inference))"
   ]
  },
  {
   "cell_type": "markdown",
   "metadata": {},
   "source": [
    "### E. Shop\n",
    "In addition to cherries, the store sells many other goods that are sold by weight.\n",
    "Let's automate the calculation of change for them too!\n",
    "\n",
    "Input Format\n",
    "The three natural numbers are:\n",
    "\n",
    "the price of the goods;\n",
    "Shipping weight;\n",
    "The amount of money the user has.\n",
    "Output Format\n",
    "One integer is the change that you want to give to the user"
   ]
  },
  {
   "cell_type": "code",
   "execution_count": null,
   "metadata": {},
   "outputs": [],
   "source": [
    "price = int(input())\n",
    "shipping_weight = int(input())\n",
    "amount = int(input())\n",
    "total_price = price * shipping_weight\n",
    "inference = amount - total_price\n",
    "print(int(inference))"
   ]
  },
  {
   "cell_type": "markdown",
   "metadata": {},
   "source": [
    "### F. Cheque\n",
    "Of course, everyone can calculate the change, but it is not so easy to print a beautiful check.\n",
    "\n",
    "Input Format\n",
    "the name of the product;\n",
    "the price of the goods;\n",
    "Shipping weight;\n",
    "The amount of money the user has.\n",
    "Output Format\n",
    "Check\n",
    "<name of the product> - <weight>kg - <price>rub/kg\n",
    "Total: <total cost>rub Deposited: <amount of money from the user>rub Change: <change>rub\n"
   ]
  },
  {
   "cell_type": "code",
   "execution_count": null,
   "metadata": {},
   "outputs": [],
   "source": [
    "product_name = input()\n",
    "price = int(input())\n",
    "shipping_weight = int(input())\n",
    "amount = int(input())\n",
    "total_price = price * shipping_weight\n",
    "inference = amount - total_price\n",
    "print('Чек')\n",
    "print(product_name, ' - ', shipping_weight, 'кг', ' - ', price, 'руб/кг', sep='')\n",
    "print('Итого: ', total_price, 'руб', sep='')\n",
    "print('Внесено: ', amount, 'руб', sep='')\n",
    "print('Сдача: ', inference, 'руб', sep='')"
   ]
  },
  {
   "cell_type": "markdown",
   "metadata": {},
   "source": [
    "### G. Time for business, time for fun\n",
    "Let's take a break from automation and do something really interesting.\n",
    "\n",
    "Input Format\n",
    "One natural number N\n",
    "\n",
    "Output Format\n",
    "N lines with the phrase: \"Buy an elephant!\""
   ]
  },
  {
   "cell_type": "code",
   "execution_count": null,
   "metadata": {},
   "outputs": [],
   "source": [
    "factor = int(input())\n",
    "\n",
    "for i in range(factor):\n",
    "    print(\"Купи слона!\")"
   ]
  },
  {
   "cell_type": "markdown",
   "metadata": {},
   "source": [
    "### H . Punishment\n",
    "Our entertainment did not go unnoticed...\n",
    "And we chose the appropriate punishment.\n",
    "\n",
    "Input Format\n",
    "The first line contains one natural number N .The second line contains part of the punishment.\n",
    "\n",
    "Output Format\n",
    "N rows of the form: I will never write \"<part of punishment>\" again!"
   ]
  },
  {
   "cell_type": "code",
   "execution_count": null,
   "metadata": {},
   "outputs": [],
   "source": [
    "factor = int(input())\n",
    "text = input()\n",
    "for i in range(factor):\n",
    "    print(f\"Я больше никогда не буду писать \\\"{text}\\\"!\")"
   ]
  },
  {
   "cell_type": "markdown",
   "metadata": {},
   "source": [
    "### I .Business sausage\n",
    "It's time for really serious tasks...\n",
    "In kindergarten, 2 children eat 2 pieces of sausage in 2 minutes. How many pieces of sausage will $M$ children eat in $N$ minutes?\n",
    "\n",
    "Input Format\n",
    "The first line contains the natural number $N \\ge 1 $The second line contains the natural number $M \\ge 1 $\n",
    "\n",
    "Output Format\n",
    "One natural number is the number of pieces of sausage eaten by children\n",
    "\n",
    "Note\n",
    "It is guaranteed that a natural number will be obtained as a result of calculations."
   ]
  },
  {
   "cell_type": "code",
   "execution_count": null,
   "metadata": {},
   "outputs": [],
   "source": [
    "n = int(input())\n",
    "m = int(input())\n",
    "val = (n * m) // 2\n",
    "print(val)"
   ]
  },
  {
   "cell_type": "markdown",
   "metadata": {},
   "source": [
    "### J. Kindergarten – pants with straps\n",
    "Continuing the theme of kindergarten, let's automate something there as well.\n",
    "Each child is assigned a locker and a bed. The locker number consists of three digits:\n",
    "\n",
    "group number in the garden;\n",
    "the number of the crib assigned to the child;\n",
    "The serial number of the child in the group list.\n",
    "The teacher asks to make a program that, according to the name of the child and the number of his locker, forms a \"beautiful\" card for a personal file.\n",
    "\n",
    "Input Format\n",
    "The first line contains the child's name.\n",
    "The second line contains the locker number.\n",
    "\n",
    "Output Format\n",
    "Card in the form of:\n",
    "\n",
    "Group No. <group number>.  \n",
    "<child's number on the list>. <child's name>.  \n",
    "Locker: <cabinet number>.  \n",
    "Cot: <crib number>."
   ]
  },
  {
   "cell_type": "code",
   "execution_count": null,
   "metadata": {},
   "outputs": [],
   "source": [
    "name = input()\n",
    "number_locker = int(input())\n",
    "print(f\"Группа №{number_locker//100}.\\n\\\n",
    "{number_locker % 10}. {name}.\\nШкафчик: {number_locker}.\\nКроватка:\\\n",
    " {number_locker//10%10}.\")"
   ]
  },
  {
   "cell_type": "markdown",
   "metadata": {},
   "source": [
    "### K. Game Automation\n",
    "All in the same kindergarten, the guys love to play with numbers.\n",
    "One of these games is the permutation of the digits of a four-digit number.\n",
    "Write a program for a nanny robot, which from among the species abcd is the number badc.\n",
    "\n",
    "Input Format\n",
    "One four-digit number.\n",
    "\n",
    "Output Format\n",
    "One four-digit number is the result of the permutation."
   ]
  },
  {
   "cell_type": "code",
   "execution_count": null,
   "metadata": {},
   "outputs": [],
   "source": [
    "digit = int(input())\n",
    "print(f'{digit//100%10}{digit//1000}{digit%10}{digit%100//10}')"
   ]
  },
  {
   "cell_type": "markdown",
   "metadata": {},
   "source": [
    "### L. Interesting addition\n",
    "One kid from kindergarten heard from his older sister about a certain action with numbers - addition.\n",
    "And as is often the case, he did not fully understand how addition works. For example, I didn't quite understand how to transfer a discharge.\n",
    "Now he wants to teach the rest of the guys how to add and asks to write a program that will help him as a visual material.\n",
    "\n",
    "Input Format\n",
    "In the first and second lines, natural numbers less than 1000 are written.\n",
    "\n",
    "Output Format\n",
    "One number is the result of adding the entered numbers without taking into account hyphenation."
   ]
  },
  {
   "cell_type": "code",
   "execution_count": null,
   "metadata": {},
   "outputs": [],
   "source": [
    "n = input()\n",
    "m = input()\n",
    "\n",
    "\n",
    "def check_value(a):\n",
    "    if len(a) < 2:\n",
    "        a = \"00\" + a\n",
    "    elif len(a) < 3:\n",
    "        a = \"0\" + a\n",
    "    return a\n",
    "\n",
    "\n",
    "def special_add(b):\n",
    "    if b > 9:\n",
    "        b = b % 10\n",
    "    else:\n",
    "        b = b\n",
    "    return b\n",
    "\n",
    "\n",
    "n = check_value(n)\n",
    "m = check_value(m)\n",
    "one = special_add(int(n[0]) + int(m[0]))\n",
    "two = special_add(int(n[1]) + int(m[1]))\n",
    "three = special_add(int(n[2]) + int(m[2]))\n",
    "print(one, two, three, sep='')"
   ]
  },
  {
   "cell_type": "markdown",
   "metadata": {},
   "source": [
    "### M. Santa Claus and sweets\n",
    "The most important event in the kindergarten has come - the New Year's matinee.\n",
    "A well-disguised Robinyanya in the role of Santa Claus decided to distribute sweets to the children so that everyone would get equally. Write an algorithm for Robinani that will help distribute candies.\n",
    "\n",
    "Input Format\n",
    "The first line indicates the number of children at the matinee.\n",
    "The second line is the number of candies in the candy compartment of the babysitter.\n",
    "\n",
    "Output Format\n",
    "First, print out the amount of candy that is given to each child, and then the amount of candy that is left in the candy compartment."
   ]
  },
  {
   "cell_type": "code",
   "execution_count": null,
   "metadata": {},
   "outputs": [],
   "source": [
    "number = int(input())\n",
    "sweet = int(input())\n",
    "print(f'{sweet//number}\\n{sweet%number}')"
   ]
  },
  {
   "cell_type": "markdown",
   "metadata": {},
   "source": [
    "### N. Balls and pens\n",
    "Sometimes the guys in kindergarten are bored, so they constantly come up with not very difficult, but fun, in their opinion, games.\n",
    "The group has a box with balls, the number of which is not known to children in advance, of the following colors:\n",
    "\n",
    "red;\n",
    "green;\n",
    "blue.\n",
    "The game consists in the fact that each child comes to the box and, without looking, pulls out one ball, the winner is the one who first pulls out the green ball.\n",
    "What do you think, after what is the maximum number of moves the children will find out the winner of the game?\n",
    "\n",
    "Input Format\n",
    "Three natural numbers, each on a new line (the number of red, green and blue balls, respectively).\n",
    "\n",
    "Output Format\n",
    "One number is the maximum number of moves that will be required to determine the winner."
   ]
  },
  {
   "cell_type": "code",
   "execution_count": null,
   "metadata": {},
   "outputs": [],
   "source": [
    "red = int(input())\n",
    "green = int(input())\n",
    "blue = int(input())\n",
    "print(f'{blue + red + 1}') "
   ]
  },
  {
   "cell_type": "markdown",
   "metadata": {},
   "source": [
    "### M. Awaiting delivery\n",
    "Today at $ $N hours $M$ minutes, the store owner ordered the delivery of a new product. The operator said that the products will be delivered in $T$ minutes. How much time will there be on the electronic clock when the long-awaited products will be brought?\n",
    "\n",
    "Input Format\n",
    "The first line contains the natural number $N$ ($0 \\le N \\lt 24$). The second line contains the natural number $M$ ($0 \\le M \\lt 60$). The third line contains the natural number $T$ ($30 \\le T \\lt 10^9$).\n",
    "\n",
    "Output Format\n",
    "A single line representing the dial of an electronic watch."
   ]
  },
  {
   "cell_type": "code",
   "execution_count": null,
   "metadata": {},
   "outputs": [],
   "source": [
    "from datetime import datetime, timedelta\n",
    "hour = int(input())\n",
    "minute = int(input())\n",
    "minute_add = int(input())\n",
    "date_and_time = timedelta(hours=hour, minutes=minute)\n",
    "time_change = timedelta(minutes=minute_add)\n",
    "new_time = date_and_time + time_change\n",
    "to_print = datetime.utcfromtimestamp(new_time.total_seconds()).strftime(\"%H:%M\")\n",
    "print(to_print)"
   ]
  },
  {
   "cell_type": "markdown",
   "metadata": {},
   "source": [
    "### P. Delivery\n",
    "The grocery warehouse and the store are located on the same road in the city of N. The warehouse is located at around $ $A km, and the store is $B$ km.\n",
    "The average speed of a car delivering goods is $ $C km / h.\n",
    "\n",
    "Input Format\n",
    "Three natural numbers $A$, $B$, and $C$, each on a separate line.\n",
    "\n",
    "Output Format\n",
    "One rational number with an accuracy of hundredths."
   ]
  },
  {
   "cell_type": "code",
   "execution_count": null,
   "metadata": {},
   "outputs": [],
   "source": [
    "a = int(input())\n",
    "b = int(input())\n",
    "c = int(input())\n",
    "ans = (b - a) / c\n",
    "text = \"{0:.2f}\"\n",
    "print(text.format(ans))"
   ]
  },
  {
   "cell_type": "markdown",
   "metadata": {},
   "source": [
    "### Q. Cash register error\n",
    "We have already helped the store with calculations and the formation of checks, but today the cash register began to issue binary numbers instead of the decimal numbers familiar to the seller.\n",
    "Technical support will arrive only tomorrow, and the store should continue to work. We need to help.\n",
    "\n",
    "Input Format\n",
    "The first line contains a decimal number - the total amount of goods purchased in the store at the moment.\n",
    "The second line contains a binary number - the amount for the last purchase.\n",
    "\n",
    "Output Format\n",
    "One decimal number is the amount of profit for the day, taking into account the last purchase."
   ]
  },
  {
   "cell_type": "code",
   "execution_count": null,
   "metadata": {},
   "outputs": [],
   "source": [
    "a = int(input())\n",
    "b = input()\n",
    "ans = a + int(b, 2)\n",
    "print(ans)"
   ]
  },
  {
   "cell_type": "markdown",
   "metadata": {},
   "source": [
    "### R. Surrender 10\n",
    "By the way, despite the error of the device, the change also needs to be given.\n",
    "\n",
    "Input Format\n",
    "The purchase price is a binary number issued by the cash register.\n",
    "The denomination of the user's banknote is a decimal number ($\\ge $ 100).\n",
    "\n",
    "Output Format\n",
    "One decimal number is the change that you want to give to the user.\n",
    "\n",
    "Note\n",
    "All numbers used in the problem are integers."
   ]
  },
  {
   "cell_type": "code",
   "execution_count": null,
   "metadata": {},
   "outputs": [],
   "source": [
    "a = int(input(), 2)\n",
    "b = int(input())\n",
    "ans = b - a\n",
    "print(ans)"
   ]
  },
  {
   "cell_type": "markdown",
   "metadata": {},
   "source": [
    "### S. Decoration of the check\n",
    "Let's put in order the check that was printed earlier.\n",
    "All strings must be 35 characters long.\n",
    "\n",
    "Input Format\n",
    "Product name;\n",
    "the price of the goods;\n",
    "Shipping weight;\n",
    "The amount of money the user has.\n",
    "Output Format\n",
    "A beautiful receipt in the format:\n",
    "\n",
    "================Чек================\n",
    "Товар:                    <продукт>\n",
    "Цена:     <число>кг * <число>руб/кг\n",
    "Итого:                   <число>руб\n",
    "Внесено:                 <число>руб\n",
    "Сдача:                   <число>руб\n",
    "===================================\n",
    "Note\n",
    "At this time, the examples below are not rendered correctly."
   ]
  },
  {
   "cell_type": "code",
   "execution_count": null,
   "metadata": {},
   "outputs": [],
   "source": [
    "product_name = input()\n",
    "price = int(input())\n",
    "shipping_weight = int(input())\n",
    "amount = int(input())\n",
    "total_price = price * shipping_weight\n",
    "inference = amount - total_price\n",
    "len_price = len(str(price))\n",
    "len_shipping = 18 - len_price\n",
    "print('{:=^35}'.format('Чек'))\n",
    "print(f'Товар: {product_name:>28}')\n",
    "print('Цена: {:>{}}{:>5}{:>{}}{:>6}'.format(shipping_weight, len_shipping, \"кг * \", price, len_price, \"руб/кг\"), sep='')\n",
    "print('Итого: {:25d}руб'.format(total_price), sep='')\n",
    "print('Внесено: {:23d}руб'.format(amount), sep='') \n",
    "print('Сдача: {:25d}руб'.format(inference), sep='')\n",
    "print('=' * 35)"
   ]
  },
  {
   "cell_type": "markdown",
   "metadata": {},
   "source": [
    "### T. Flies separately, cutlets separately\n",
    "Let's go back to the store, the owner of which is already accustomed to relying on almighty automation.\n",
    "\n",
    "Help him deal with one problem. Further his story: \"A couple of days ago I bought two batches of patties and accidentally poured them on one counter. The total weight of the cutlets was $ $N kilogram, and the price tag was $ $M rubles per kilogram. Today I discovered that the invoices for these types of cutlets are lost, But I remember that the first type of cutlets cost $ $K_1 rubles per kilogram, and the second is $$K_2.\n",
    "\n",
    "Help me remember the weight of each batch of cutlets to put them on record.\n",
    "\n",
    "Input Format\n",
    "The first line contains the natural number $N$In the second line - the natural number $M$\n",
    "In the third line - the natural number $K_1$In the fourth line - the natural number $K_2$\n",
    "And it is known for certain that the second type of cutlets costs less than the first.\n",
    "\n",
    "Output Format\n",
    "Two natural numbers written with a space are the weight of both batches of cutlets."
   ]
  },
  {
   "cell_type": "code",
   "execution_count": null,
   "metadata": {},
   "outputs": [],
   "source": [
    "n = int(input())\n",
    "m = int(input())\n",
    "k1 = int(input())\n",
    "k2 = int(input())\n",
    "weigth_k1 = int((n * (k2 - m) / (k2 - k1)))\n",
    "weigth_k2 = int((n * (m - k1) / (k2 - k1)))\n",
    "print(weigth_k1, weigth_k2)"
   ]
  }
 ],
 "metadata": {
  "kernelspec": {
   "display_name": "Python 3 (ipykernel)",
   "language": "python",
   "name": "python3"
  },
  "language_info": {
   "codemirror_mode": {
    "name": "ipython",
    "version": 3
   },
   "file_extension": ".py",
   "mimetype": "text/x-python",
   "name": "python",
   "nbconvert_exporter": "python",
   "pygments_lexer": "ipython3",
   "version": "3.10.9"
  }
 },
 "nbformat": 4,
 "nbformat_minor": 2
}
